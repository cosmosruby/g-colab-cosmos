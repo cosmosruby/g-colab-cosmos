{
  "nbformat": 4,
  "nbformat_minor": 0,
  "metadata": {
    "colab": {
      "provenance": [],
      "authorship_tag": "ABX9TyM3OkSTQguycRlRg6+LEyUa",
      "include_colab_link": true
    },
    "kernelspec": {
      "name": "python3",
      "display_name": "Python 3"
    },
    "language_info": {
      "name": "python"
    }
  },
  "cells": [
    {
      "cell_type": "markdown",
      "metadata": {
        "id": "view-in-github",
        "colab_type": "text"
      },
      "source": [
        "<a href=\"https://colab.research.google.com/github/cosmosruby/g-colab-cosmos/blob/main/cosmos1.ipynb\" target=\"_parent\"><img src=\"https://colab.research.google.com/assets/colab-badge.svg\" alt=\"Open In Colab\"/></a>"
      ]
    },
    {
      "cell_type": "code",
      "execution_count": 3,
      "metadata": {
        "colab": {
          "base_uri": "https://localhost:8080/"
        },
        "id": "tyri8bWkABJs",
        "outputId": "761ffdf5-8b42-47a2-ad7f-813d2a04bd4e"
      },
      "outputs": [
        {
          "output_type": "stream",
          "name": "stdout",
          "text": [
            "ask any2\n",
            "12.0\n"
          ]
        }
      ],
      "source": [
        "c =float(input(\"ask any\"))\n",
        "a =6 +4 + c\n",
        "print(a)"
      ]
    }
  ]
}